{
 "cells": [
  {
   "cell_type": "code",
   "execution_count": 38,
   "id": "0f4fed5c",
   "metadata": {},
   "outputs": [],
   "source": [
    "import pandas as pd\n",
    "import requests\n",
    "from bs4 import BeautifulSoup\n",
    "import datetime"
   ]
  },
  {
   "cell_type": "code",
   "execution_count": 39,
   "id": "c75a3d03",
   "metadata": {},
   "outputs": [],
   "source": [
    "headers = {\n",
    "    'authority': 'www.amazon.com.tr',\n",
    "    'accept': 'text/html,application/xhtml+xml,application/xml;q=0.9,image/avif,image/webp,image/apng,*/*;q=0.8,application/signed-exchange;v=b3;q=0.9',\n",
    "    'accept-language': 'tr-TR,tr;q=0.9,en-US;q=0.8,en;q=0.7,ru;q=0.6',\n",
    "    'cache-control': 'max-age=0',\n",
    "    # Requests sorts cookies= alphabetically\n",
    "    # 'cookie': 'ubid-acbtr=257-0578411-5371008; session-id=257-5458463-5574564; i18n-prefs=TRY; lc-acbtr=tr_TR; session-id-time=2082787201l; session-token=\"QzTUVZQ7sWkSRJTgKASFq9JHUfP7TMNuD9VYO/XvOv3yF5cDSF+BGpoq3K4E5w58DogdhIZ7TogvWDajmp/FzWADATrpMmo2cCZYkvlq2vFpd09IUmtZy8/j71ZJ9alNC9wsa42LlxkBESCtotKEOG9gX6fyJxZTt9JkpDL7U/GdU44OFE4sjvOcXDssQv2Vg5ADSuOXAMAv0y/1g2uczQ==\"; csm-hit=tb:EYZQXR3CY8EMJHV7DJJ1+s-V05C79H7NXY17VENB5HJ|1652795008062&t:1652795008062&adb:adblk_no',\n",
    "    'device-memory': '8',\n",
    "    'downlink': '10',\n",
    "    'dpr': '1',\n",
    "    'ect': '4g',\n",
    "    'referer': 'https://www.amazon.com.tr/elektronik/b/?ie=UTF8&node=12466497031&ref_=nav_cs_electronics',\n",
    "    'rtt': '100',\n",
    "    'sec-ch-device-memory': '8',\n",
    "    'sec-ch-dpr': '1',\n",
    "    'sec-ch-ua': '\" Not A;Brand\";v=\"99\", \"Chromium\";v=\"101\", \"Google Chrome\";v=\"101\"',\n",
    "    'sec-ch-ua-mobile': '?0',\n",
    "    'sec-ch-ua-platform': '\"Windows\"',\n",
    "    'sec-ch-viewport-width': '1920',\n",
    "    'sec-fetch-dest': 'document',\n",
    "    'sec-fetch-mode': 'navigate',\n",
    "    'sec-fetch-site': 'same-origin',\n",
    "    'sec-fetch-user': '?1',\n",
    "    'upgrade-insecure-requests': '1',\n",
    "    'user-agent': 'Mozilla/5.0 (Windows NT 10.0; Win64; x64) AppleWebKit/537.36 (KHTML, like Gecko) Chrome/101.0.4951.54 Safari/537.36',\n",
    "    'viewport-width': '1920',\n",
    "}"
   ]
  },
  {
   "cell_type": "code",
   "execution_count": 40,
   "id": "78b36a95",
   "metadata": {},
   "outputs": [],
   "source": [
    "soup = BeautifulSoup(resp.text, \"html.parser\")"
   ]
  },
  {
   "cell_type": "code",
   "execution_count": 41,
   "id": "e9899924",
   "metadata": {},
   "outputs": [],
   "source": [
    "reviews = soup.find_all(\"div\", {\"class\": \"a-section review aok-relative\"})"
   ]
  },
  {
   "cell_type": "code",
   "execution_count": 42,
   "id": "d6457653",
   "metadata": {},
   "outputs": [],
   "source": [
    "def get_review_stars(soup_obj: BeautifulSoup) -> str:\n",
    "    try:\n",
    "        review_str = soup_obj.find('a', {\"class\": \"a-link-normal\"}).get_text().split()[3]\n",
    "        return review_str\n",
    "    except Exception as e:\n",
    "        return 'no_stars'\n",
    "        print(e)"
   ]
  },
  {
   "cell_type": "code",
   "execution_count": 43,
   "id": "3039bb08",
   "metadata": {},
   "outputs": [],
   "source": [
    "def get_review_body(soup_obj: BeautifulSoup) -> str:\n",
    "    try:\n",
    "        review_body = soup_obj.find('span', \n",
    "            {\"class\": \"a-size-base review-text review-text-content\"}\n",
    "        ).get_text().strip()\n",
    "        return review_body\n",
    "    except Exception as e:\n",
    "        return 'no_body'\n",
    "        print(e)\n"
   ]
  },
  {
   "cell_type": "code",
   "execution_count": 44,
   "id": "f6493b96",
   "metadata": {},
   "outputs": [],
   "source": [
    "def get_review_components(soup_obj: BeautifulSoup) -> dict:\n",
    "    return {\n",
    "        'stars': get_review_stars(soup_obj),\n",
    "        'body': get_review_body(soup_obj), \n",
    "    }"
   ]
  },
  {
   "cell_type": "code",
   "execution_count": 45,
   "id": "ac986fc2",
   "metadata": {
    "scrolled": true
   },
   "outputs": [],
   "source": [
    "records = [get_review_components(rev) for rev in reviews]\n",
    "df = pd.DataFrame.from_records(records)\n",
    "df.to_csv('amazon_980.csv')"
   ]
  },
  {
   "cell_type": "code",
   "execution_count": 46,
   "id": "40336023",
   "metadata": {
    "scrolled": true
   },
   "outputs": [
    {
     "data": {
      "text/html": [
       "<div>\n",
       "<style scoped>\n",
       "    .dataframe tbody tr th:only-of-type {\n",
       "        vertical-align: middle;\n",
       "    }\n",
       "\n",
       "    .dataframe tbody tr th {\n",
       "        vertical-align: top;\n",
       "    }\n",
       "\n",
       "    .dataframe thead th {\n",
       "        text-align: right;\n",
       "    }\n",
       "</style>\n",
       "<table border=\"1\" class=\"dataframe\">\n",
       "  <thead>\n",
       "    <tr style=\"text-align: right;\">\n",
       "      <th></th>\n",
       "      <th>stars</th>\n",
       "      <th>body</th>\n",
       "    </tr>\n",
       "  </thead>\n",
       "  <tbody>\n",
       "    <tr>\n",
       "      <th>0</th>\n",
       "      <td>3,0</td>\n",
       "      <td>Şöyle hızlara çıkıyor falan demeyeceğim zaten ...</td>\n",
       "    </tr>\n",
       "    <tr>\n",
       "      <th>1</th>\n",
       "      <td>5,0</td>\n",
       "      <td>2021 itibari ile paranın alabileceği en iyi m2...</td>\n",
       "    </tr>\n",
       "    <tr>\n",
       "      <th>2</th>\n",
       "      <td>5,0</td>\n",
       "      <td>Asus pro gamer z97 anakartım için aldım. Önced...</td>\n",
       "    </tr>\n",
       "    <tr>\n",
       "      <th>3</th>\n",
       "      <td>5,0</td>\n",
       "      <td>Öncelikle ürün PCI-e 4.0 ile en güncel teknolo...</td>\n",
       "    </tr>\n",
       "    <tr>\n",
       "      <th>4</th>\n",
       "      <td>5,0</td>\n",
       "      <td>Amazon Prime farkıyla en uygun fiyata aynı gün...</td>\n",
       "    </tr>\n",
       "  </tbody>\n",
       "</table>\n",
       "</div>"
      ],
      "text/plain": [
       "  stars                                               body\n",
       "0   3,0  Şöyle hızlara çıkıyor falan demeyeceğim zaten ...\n",
       "1   5,0  2021 itibari ile paranın alabileceği en iyi m2...\n",
       "2   5,0  Asus pro gamer z97 anakartım için aldım. Önced...\n",
       "3   5,0  Öncelikle ürün PCI-e 4.0 ile en güncel teknolo...\n",
       "4   5,0  Amazon Prime farkıyla en uygun fiyata aynı gün..."
      ]
     },
     "execution_count": 46,
     "metadata": {},
     "output_type": "execute_result"
    }
   ],
   "source": [
    "ALL_REVIEWS = []\n",
    "\n",
    "for x in range(8):\n",
    "    u=\"https://www.amazon.com.tr/Samsung-NVMe-Dahili-Kat%C4%B1/product-reviews/B08GS7748F/ref=cm_cr_getr_d_paging_btm_prev_{btmNext}?ie=UTF8&reviewerType=all_reviews&pageNumber={pageNumber}\".format(btmNext=x,pageNumber=x)\n",
    "    \n",
    "    resp = requests.get(u, headers=headers)\n",
    "    soup = BeautifulSoup(resp.text, \"html.parser\")\n",
    "    reviews = soup.find_all(\"div\", {\"class\": \"a-section review aok-relative\"})\n",
    "    stars =soup.find_all(\"div\",)\n",
    "    records = [get_review_components(rev) for rev in reviews]\n",
    "    ALL_REVIEWS.extend(records)\n",
    "    \n",
    "out = pd.DataFrame.from_records(ALL_REVIEWS)\n",
    "out.head()    "
   ]
  },
  {
   "cell_type": "code",
   "execution_count": 36,
   "id": "d0b2bc7e",
   "metadata": {
    "scrolled": true
   },
   "outputs": [],
   "source": [
    "from datetime import datetime\n"
   ]
  },
  {
   "cell_type": "code",
   "execution_count": 37,
   "id": "d9178599",
   "metadata": {},
   "outputs": [],
   "source": [
    "save_name = f\"{datetime.now().strftime('%Y-%m-%d-%m')}.csv\"\n",
    "out.to_csv(save_name,index=False,mode='a')"
   ]
  },
  {
   "cell_type": "code",
   "execution_count": null,
   "id": "59777d97",
   "metadata": {},
   "outputs": [],
   "source": []
  },
  {
   "cell_type": "code",
   "execution_count": null,
   "id": "f16ad7ba",
   "metadata": {},
   "outputs": [],
   "source": []
  },
  {
   "cell_type": "code",
   "execution_count": null,
   "id": "eef000cf",
   "metadata": {},
   "outputs": [],
   "source": []
  }
 ],
 "metadata": {
  "kernelspec": {
   "display_name": "Python 3 (ipykernel)",
   "language": "python",
   "name": "python3"
  },
  "language_info": {
   "codemirror_mode": {
    "name": "ipython",
    "version": 3
   },
   "file_extension": ".py",
   "mimetype": "text/x-python",
   "name": "python",
   "nbconvert_exporter": "python",
   "pygments_lexer": "ipython3",
   "version": "3.9.7"
  }
 },
 "nbformat": 4,
 "nbformat_minor": 5
}
