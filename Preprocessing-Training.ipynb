{
 "cells": [
  {
   "cell_type": "code",
   "execution_count": 1,
   "id": "c5545b33",
   "metadata": {},
   "outputs": [],
   "source": [
    "import pandas as pd \n",
    "import numpy as np"
   ]
  },
  {
   "cell_type": "code",
   "execution_count": 2,
   "id": "d0797507",
   "metadata": {},
   "outputs": [],
   "source": [
    "df=pd.read_csv('C:/Users/omerk/Desktop/amazondataset.csv',usecols= ['body','stars'])"
   ]
  },
  {
   "cell_type": "code",
   "execution_count": 3,
   "id": "b8c970d4",
   "metadata": {},
   "outputs": [
    {
     "data": {
      "text/html": [
       "<div>\n",
       "<style scoped>\n",
       "    .dataframe tbody tr th:only-of-type {\n",
       "        vertical-align: middle;\n",
       "    }\n",
       "\n",
       "    .dataframe tbody tr th {\n",
       "        vertical-align: top;\n",
       "    }\n",
       "\n",
       "    .dataframe thead th {\n",
       "        text-align: right;\n",
       "    }\n",
       "</style>\n",
       "<table border=\"1\" class=\"dataframe\">\n",
       "  <thead>\n",
       "    <tr style=\"text-align: right;\">\n",
       "      <th></th>\n",
       "      <th>stars</th>\n",
       "      <th>body</th>\n",
       "    </tr>\n",
       "  </thead>\n",
       "  <tbody>\n",
       "    <tr>\n",
       "      <th>2543</th>\n",
       "      <td>2,0</td>\n",
       "      <td>Resindeki gibi büyük değil orta boy. Eski maus...</td>\n",
       "    </tr>\n",
       "    <tr>\n",
       "      <th>783</th>\n",
       "      <td>1,0</td>\n",
       "      <td>Ürün orjinal geldi fakat şarj almıyor ve kaç g...</td>\n",
       "    </tr>\n",
       "    <tr>\n",
       "      <th>6867</th>\n",
       "      <td>3,0</td>\n",
       "      <td>Eh işte ne öldürüyor ne güldürüyor tipi bir mouse</td>\n",
       "    </tr>\n",
       "    <tr>\n",
       "      <th>4982</th>\n",
       "      <td>5,0</td>\n",
       "      <td>Amazon prime sağolsun oldukça hızlı geldi, ürü...</td>\n",
       "    </tr>\n",
       "    <tr>\n",
       "      <th>638</th>\n",
       "      <td>5,0</td>\n",
       "      <td>kusursuz teslimat kusursuz ürün amazon bir num...</td>\n",
       "    </tr>\n",
       "  </tbody>\n",
       "</table>\n",
       "</div>"
      ],
      "text/plain": [
       "     stars                                               body\n",
       "2543   2,0  Resindeki gibi büyük değil orta boy. Eski maus...\n",
       "783    1,0  Ürün orjinal geldi fakat şarj almıyor ve kaç g...\n",
       "6867   3,0  Eh işte ne öldürüyor ne güldürüyor tipi bir mouse\n",
       "4982   5,0  Amazon prime sağolsun oldukça hızlı geldi, ürü...\n",
       "638    5,0  kusursuz teslimat kusursuz ürün amazon bir num..."
      ]
     },
     "execution_count": 3,
     "metadata": {},
     "output_type": "execute_result"
    }
   ],
   "source": [
    "df.sample(5)"
   ]
  },
  {
   "cell_type": "code",
   "execution_count": 4,
   "id": "f7c8aaf2",
   "metadata": {},
   "outputs": [
    {
     "data": {
      "text/plain": [
       "Güzel                                                                                                                                                                                                                                                                                                                                                                                                                                                                                                                                                                                                                                                                                                                                                                                                                                                                                                                                                                                                                                                                                                                                                                                                                                                                                                                                                                                                                                                                                                                                                                                                                                                                                                                                                                                                                                                                                                                                                                                                                                                                                                                       22\n",
       "Teşekkürler                                                                                                                                                                                                                                                                                                                                                                                                                                                                                                                                                                                                                                                                                                                                                                                                                                                                                                                                                                                                                                                                                                                                                                                                                                                                                                                                                                                                                                                                                                                                                                                                                                                                                                                                                                                                                                                                                                                                                                                                                                                                                                                 17\n",
       "Harika                                                                                                                                                                                                                                                                                                                                                                                                                                                                                                                                                                                                                                                                                                                                                                                                                                                                                                                                                                                                                                                                                                                                                                                                                                                                                                                                                                                                                                                                                                                                                                                                                                                                                                                                                                                                                                                                                                                                                                                                                                                                                                                      16\n",
       "Çok iyi                                                                                                                                                                                                                                                                                                                                                                                                                                                                                                                                                                                                                                                                                                                                                                                                                                                                                                                                                                                                                                                                                                                                                                                                                                                                                                                                                                                                                                                                                                                                                                                                                                                                                                                                                                                                                                                                                                                                                                                                                                                                                                                     13\n",
       "Kaliteli                                                                                                                                                                                                                                                                                                                                                                                                                                                                                                                                                                                                                                                                                                                                                                                                                                                                                                                                                                                                                                                                                                                                                                                                                                                                                                                                                                                                                                                                                                                                                                                                                                                                                                                                                                                                                                                                                                                                                                                                                                                                                                                    12\n",
       "                                                                                                                                                                                                                                                                                                                                                                                                                                                                                                                                                                                                                                                                                                                                                                                                                                                                                                                                                                                                                                                                                                                                                                                                                                                                                                                                                                                                                                                                                                                                                                                                                                                                                                                                                                                                                                                                                                                                                                                                                                                                                                                            ..\n",
       "Ses kalitesi Mükemmel                                                                                                                                                                                                                                                                                                                                                                                                                                                                                                                                                                                                                                                                                                                                                                                                                                                                                                                                                                                                                                                                                                                                                                                                                                                                                                                                                                                                                                                                                                                                                                                                                                                                                                                                                                                                                                                                                                                                                                                                                                                                                                        1\n",
       "Güzel ama pahalı be kardeşim                                                                                                                                                                                                                                                                                                                                                                                                                                                                                                                                                                                                                                                                                                                                                                                                                                                                                                                                                                                                                                                                                                                                                                                                                                                                                                                                                                                                                                                                                                                                                                                                                                                                                                                                                                                                                                                                                                                                                                                                                                                                                                 1\n",
       "Bu fiyata bu kalite harika.                                                                                                                                                                                                                                                                                                                                                                                                                                                                                                                                                                                                                                                                                                                                                                                                                                                                                                                                                                                                                                                                                                                                                                                                                                                                                                                                                                                                                                                                                                                                                                                                                                                                                                                                                                                                                                                                                                                                                                                                                                                                                                  1\n",
       "düşünmeden alabilirsiniz.                                                                                                                                                                                                                                                                                                                                                                                                                                                                                                                                                                                                                                                                                                                                                                                                                                                                                                                                                                                                                                                                                                                                                                                                                                                                                                                                                                                                                                                                                                                                                                                                                                                                                                                                                                                                                                                                                                                                                                                                                                                                                                    1\n",
       "IOPS aslında ilgili değerdir, çünkü bilgisayarda yapılanlar programları başlatmak, İnternette gezinmek vb. şeylerdir. Bunlar büyük miktarda veriyi taşımayan, çok sayıda çok küçük veriyi taşıyan etkinliklerdir.Buna karşılık, klasik olarak belirtilen okuma/yazma hızı (3,5 GiB/sn ve üzeri), yalnızca TEK bir dosya taşındığında elde edilen bir değerdir. Böyle bir iş yükü çok tipik değildir ve birçok çalışma senaryosu için alakasız bir değerdir. Bununla birlikte, garip bir şekilde, bunun her zaman reklamı yapılır.Birçok bireysel dosyayı, örneğin resim, müzik vb. içeren tipik klasörleri kopyalarken, 970 EVO Plus veya 980 Pro ile 1 GiB/s'den fazla alamıyorum. Her iki SSD de burada benzer performans gösteriyor.970 EVO Plus ile karşılaştırıldığında %30 daha hızlı IOPS elde ettim. Basitçe söylemek gerekirse, bu, çok sayıda çok küçük dosya yazıldığındaki okuma/yazma performansıdır.Şimdi 980 Pro'yu bir PCIe 3.0 veriyoluna bağlarsam, yine de maksimum 3.5 GiB/s'ye ulaşırım, ancak IOPS yine de artar.IOPS'nin ilgili ve göze çarpan tek parametre olduğu göz önüne alındığında, 980 Pro'nun bir PCIe 4.0 veriyoluna ait olup olmadığı tartışmasının tamamen akademik olduğunu düşünüyorum.Ve hazır buradayken: Dünyanın en iyi iradesine rağmen, 970 EVO Plus ve 980 Pro arasında hiçbir fark göremedim. Sorun şu ki 970 EVO Plus o kadar hızlı ki programlar milisaniyeler içinde açılıyor. Ne yazık ki artık bir programın 0.7 saniyede mi yoksa 0.9 saniyede mi açıldığını anlayamıyorum. Olsa bile benim için bir katma değeri olmayacaktı.Sonuç: 980 Pro, vaat ettiğini sunan harika bir M.2 SSD'dir. Ana sorunları, 970 EVO Plus ile arasındaki farkın ancak laboratuvarda belirlenebilmesidir, çünkü EVO Plus aynı zamanda mükemmel bir SSD'dir. Kartlarla bir fark hissetmiyorsunuz.Bu bağlamda, bir 980 Pro yalnızca veri sayfası verilerinin önemli olduğu kişilere önerilebilir (bir süredir meraklı olarak adlandırılmaktadırlar).Diğer herkesin 970 EVO (Plus), 960 ve hatta sadece 860 satın alması şiddetle tavsiye edilir. Sana söz veriyorum, bir fark görmeyeceksin.     1\n",
       "Name: body, Length: 8443, dtype: int64"
      ]
     },
     "execution_count": 4,
     "metadata": {},
     "output_type": "execute_result"
    }
   ],
   "source": [
    "df['body'].value_counts()"
   ]
  },
  {
   "cell_type": "code",
   "execution_count": 5,
   "id": "d501d1a3",
   "metadata": {},
   "outputs": [
    {
     "name": "stderr",
     "output_type": "stream",
     "text": [
      "[nltk_data] Downloading package punkt to\n",
      "[nltk_data]     C:\\Users\\omerk\\AppData\\Roaming\\nltk_data...\n",
      "[nltk_data]   Package punkt is already up-to-date!\n"
     ]
    },
    {
     "data": {
      "text/plain": [
       "True"
      ]
     },
     "execution_count": 5,
     "metadata": {},
     "output_type": "execute_result"
    }
   ],
   "source": [
    "import numpy as np\n",
    "import pandas as pd\n",
    "from sklearn.model_selection import train_test_split\n",
    "import re\n",
    "import nltk\n",
    "nltk.download('punkt')"
   ]
  },
  {
   "cell_type": "code",
   "execution_count": 6,
   "id": "6d066feb",
   "metadata": {},
   "outputs": [],
   "source": [
    "df.drop_duplicates(subset =\"body\",keep ='first', inplace = True)"
   ]
  },
  {
   "cell_type": "code",
   "execution_count": 7,
   "id": "3f6e0747",
   "metadata": {},
   "outputs": [],
   "source": [
    "from nltk.corpus import stopwords\n",
    "stopword = set(stopwords.words(\"turkish\"))\n",
    "def stopwords_temizleme (metin):\n",
    "    return \" \".join([kelime for kelime in str(metin).split() if kelime not in stopword])\n",
    "df[\"body\"] = df[\"body\"].apply(lambda metin : stopwords_temizleme(metin) )\n"
   ]
  },
  {
   "cell_type": "code",
   "execution_count": 8,
   "id": "3a841def",
   "metadata": {},
   "outputs": [],
   "source": [
    "df['body'] = df['body'].apply(lambda x: re.sub(\"[,\\.!?:()']\", '', str(x)))\n"
   ]
  },
  {
   "cell_type": "code",
   "execution_count": 9,
   "id": "82dd4863",
   "metadata": {},
   "outputs": [],
   "source": [
    "df['body'] = df['body'].apply(lambda x: str(x).lower())"
   ]
  },
  {
   "cell_type": "code",
   "execution_count": 10,
   "id": "be5471f7",
   "metadata": {},
   "outputs": [],
   "source": [
    "df['body'] = df['body'].apply(lambda x: str(x).strip())"
   ]
  },
  {
   "cell_type": "code",
   "execution_count": 11,
   "id": "6bfb6837",
   "metadata": {
    "scrolled": true
   },
   "outputs": [],
   "source": [
    "df[\"body\"]\n",
    "df.to_csv(\"Cleaningdata.csv\", index=False, encoding='utf8')"
   ]
  },
  {
   "cell_type": "code",
   "execution_count": 12,
   "id": "1c617738",
   "metadata": {},
   "outputs": [],
   "source": [
    "from sklearn.feature_extraction.text import TfidfVectorizer\n",
    "from sklearn.model_selection import train_test_split\n",
    "from sklearn.svm import LinearSVC\n",
    "from sklearn.metrics import classification_report\n"
   ]
  },
  {
   "cell_type": "code",
   "execution_count": 13,
   "id": "6bb0cd53",
   "metadata": {},
   "outputs": [],
   "source": [
    "tfidf=TfidfVectorizer(max_features=20000, ngram_range=(1,5), analyzer='char')"
   ]
  },
  {
   "cell_type": "code",
   "execution_count": 14,
   "id": "fd57f37a",
   "metadata": {},
   "outputs": [],
   "source": [
    "X = tfidf.fit_transform(df['body'])\n",
    "y = df['stars']"
   ]
  },
  {
   "cell_type": "code",
   "execution_count": 15,
   "id": "90e63de2",
   "metadata": {},
   "outputs": [
    {
     "data": {
      "text/plain": [
       "((8443, 20000), (8443,))"
      ]
     },
     "execution_count": 15,
     "metadata": {},
     "output_type": "execute_result"
    }
   ],
   "source": [
    "X.shape, y.shape"
   ]
  },
  {
   "cell_type": "code",
   "execution_count": 16,
   "id": "198fd235",
   "metadata": {},
   "outputs": [],
   "source": [
    "from sklearn.model_selection import train_test_split"
   ]
  },
  {
   "cell_type": "code",
   "execution_count": 17,
   "id": "7525a5d3",
   "metadata": {},
   "outputs": [],
   "source": [
    "X_train, X_test, y_train, y_test = train_test_split(X, y,test_size=0.08, random_state=0)"
   ]
  },
  {
   "cell_type": "code",
   "execution_count": 18,
   "id": "44595f68",
   "metadata": {},
   "outputs": [
    {
     "data": {
      "text/plain": [
       "(7767, 20000)"
      ]
     },
     "execution_count": 18,
     "metadata": {},
     "output_type": "execute_result"
    }
   ],
   "source": [
    "X_train.shape"
   ]
  },
  {
   "cell_type": "code",
   "execution_count": 19,
   "id": "3507f419",
   "metadata": {},
   "outputs": [],
   "source": [
    "from sklearn.svm import LinearSVC"
   ]
  },
  {
   "cell_type": "code",
   "execution_count": 20,
   "id": "531e5d1b",
   "metadata": {},
   "outputs": [
    {
     "data": {
      "text/plain": [
       "LinearSVC(C=3, class_weight='balanced')"
      ]
     },
     "execution_count": 20,
     "metadata": {},
     "output_type": "execute_result"
    }
   ],
   "source": [
    "clf=LinearSVC(C=3,class_weight='balanced', max_iter=1000)\n",
    "clf.fit(X_train, y_train)"
   ]
  },
  {
   "cell_type": "code",
   "execution_count": 21,
   "id": "58942c85",
   "metadata": {},
   "outputs": [],
   "source": [
    "y_pred = clf.predict(X_test)"
   ]
  },
  {
   "cell_type": "code",
   "execution_count": 22,
   "id": "a7f9939e",
   "metadata": {},
   "outputs": [
    {
     "name": "stdout",
     "output_type": "stream",
     "text": [
      "              precision    recall  f1-score   support\n",
      "\n",
      "         1,0       0.53      0.57      0.55        54\n",
      "         2,0       0.25      0.16      0.19        19\n",
      "         3,0       0.29      0.25      0.27        32\n",
      "         4,0       0.35      0.31      0.33        74\n",
      "         5,0       0.87      0.90      0.89       497\n",
      "\n",
      "    accuracy                           0.76       676\n",
      "   macro avg       0.46      0.44      0.45       676\n",
      "weighted avg       0.74      0.76      0.75       676\n",
      "\n"
     ]
    }
   ],
   "source": [
    "print(classification_report(y_test,y_pred))\n",
    "\n"
   ]
  },
  {
   "cell_type": "code",
   "execution_count": 23,
   "id": "394ce2e6",
   "metadata": {},
   "outputs": [
    {
     "name": "stdout",
     "output_type": "stream",
     "text": [
      "4.388842828378539\n",
      "4.38327608669904\n"
     ]
    }
   ],
   "source": [
    "counter=0\n",
    "avarege=0\n",
    "counterx=0\n",
    "avaregex=0\n",
    "for z in df['stars']:\n",
    "    avaregex+=int(z.split(\",\")[0])\n",
    "    counterx+=1\n",
    "\n",
    "\n",
    "for k in df['body']:\n",
    "    \n",
    "    counter+=1\n",
    "    \n",
    "    vec = tfidf.transform([k])\n",
    "    \n",
    "    \n",
    "    avarege+=int(clf.predict(vec)[0].split(\",\")[0])\n",
    "print(avaregex/counterx)\n",
    "print(avarege/counter)"
   ]
  },
  {
   "cell_type": "code",
   "execution_count": 24,
   "id": "4f682c78",
   "metadata": {},
   "outputs": [
    {
     "name": "stdout",
     "output_type": "stream",
     "text": [
      "3.3\n"
     ]
    }
   ],
   "source": [
    "zzz=['Kutusundan çıkartıp açmayı denedim açılmadı.Şarjı yoktur deyip şarja taktığımda kırmızı ışık yanıp 10 saniye içinde sonra kabloyu çıkartıp tekrar denediğimde yine aynı sorun oldu.Bu yüzden değişim talebinde bulundum.','Ürün iyi de aldım indirime girdi sonra üzdü. İadeyle de uğraşmak istemiyorum.','dip ses sorunu vardı ayrıca arkadaşımdaki aynı model kulaklığa göre desibel ve ses kalitesi düşüktü, değişim istedim evden almaya gelmeyince elden teslim etmek zorunda kaldım ancak müşteri hizmetleri gerçekten ilgili','Kulaklığı kullanırken kafama bir miktar baskı uyguluyordu. Bazı şarkılarda da cızırtı yapıyordu. Bir süre sonra bu iki sebep yüzünden iade etmek zorunda kaldım. Alacaklar göz önünde bulundursun','Sağ kulaktan ritmik şekilde pıt pıt ses geliyor. Ayrıca sesi kıstığımda arkadan bir karıncalanma sesi gibi kısık ses geliyor. Kullandıkça düzelir mi yoksa iade mi etmeliyim? Yardımcı olur musunuz?',\n",
    " 'Önce olumsuz tarafı, üründe hafifte olsa dip ses var Geneli ise iyidir ama 530 TL etmez Ürünü iade ettim. Son ses sistem uyarıcı beni çıldırttı. Samsung kulaklıklarımda çok hafif bir uyarı var ama bununki çekilir gibi değil idi, çalan müziği kesiyor, yüksek ses ile uyarı veriyor ve aniden müzik devreye giriyor. Çok kötü deneyim yaşattı.Ama hakkını yememek lazım ki diğer özellkleri, kalitesi ve sesi iyi','Ürün Gayet güzel malzeme ve ses kalitesi iyi daha çok uzun kullanmadım ama deneyimlediğim kadarıyla herkese tavsiye ediyorum.','ürün güzel ergonomik fakat spor da kullanım için önermem aşırı terliyorsunuz çünkü','Çocuğum için aldım kulak pedi kulağına uygun ses kaliteside çok iyi. şarj süresi 40 saat olması büyük avantaj. kargoda çok hızlı geldi tavsiye ederim.','Mikrofonu iyi ses veriyor. Dışarıdan ses kesinlikle almıyor. Fiyatına göre yeterli bir ürün. Type c kablosu da günümüz için iyi. Eşime hediye aldım. Beğendi. Benim için yeterli.']\n",
    "counterz=0\n",
    "avaregez=0\n",
    "for k in zzz:\n",
    "   \n",
    "    counterz+=1\n",
    "    \n",
    "    vec = tfidf.transform([k])\n",
    "    \n",
    "    \n",
    "    avaregez+=int(clf.predict(vec)[0].split(\",\")[0])\n",
    "print(avaregez/counterz)"
   ]
  },
  {
   "cell_type": "code",
   "execution_count": null,
   "id": "063faad1",
   "metadata": {},
   "outputs": [],
   "source": []
  },
  {
   "cell_type": "code",
   "execution_count": null,
   "id": "dfffa4ac",
   "metadata": {},
   "outputs": [],
   "source": []
  },
  {
   "cell_type": "code",
   "execution_count": null,
   "id": "23ff7d63",
   "metadata": {},
   "outputs": [],
   "source": []
  },
  {
   "cell_type": "code",
   "execution_count": null,
   "id": "0ac2610f",
   "metadata": {},
   "outputs": [],
   "source": []
  }
 ],
 "metadata": {
  "kernelspec": {
   "display_name": "Python 3 (ipykernel)",
   "language": "python",
   "name": "python3"
  },
  "language_info": {
   "codemirror_mode": {
    "name": "ipython",
    "version": 3
   },
   "file_extension": ".py",
   "mimetype": "text/x-python",
   "name": "python",
   "nbconvert_exporter": "python",
   "pygments_lexer": "ipython3",
   "version": "3.9.7"
  }
 },
 "nbformat": 4,
 "nbformat_minor": 5
}
